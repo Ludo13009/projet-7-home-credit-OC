{
 "cells": [
  {
   "cell_type": "code",
   "execution_count": 2,
   "id": "e3dbfaee-5d6a-49f9-9537-929bbcc31c54",
   "metadata": {},
   "outputs": [],
   "source": [
    "import numpy as np\n",
    "import pandas as pd\n",
    "\n",
    "import warnings\n",
    "warnings.filterwarnings('ignore')\n",
    "\n",
    "#pd.set_option('display.max_columns', None)"
   ]
  },
  {
   "cell_type": "code",
   "execution_count": 3,
   "id": "cf838c5b-a473-4a4f-a601-82658f759463",
   "metadata": {},
   "outputs": [],
   "source": [
    "df_final = pd.read_csv('df_final_before_preprocessing.csv')"
   ]
  },
  {
   "cell_type": "markdown",
   "id": "1c2fe04f-b9b7-4c1f-9824-81f1bdf1afc3",
   "metadata": {},
   "source": [
    "# Separation train and test data"
   ]
  },
  {
   "cell_type": "code",
   "execution_count": 15,
   "id": "d70dcb6c-bea8-4bb2-b722-f71c1d9bde97",
   "metadata": {},
   "outputs": [
    {
     "data": {
      "text/plain": [
       "0    282682\n",
       "1     24825\n",
       "Name: TARGET, dtype: int64"
      ]
     },
     "execution_count": 15,
     "metadata": {},
     "output_type": "execute_result"
    }
   ],
   "source": [
    "df_final.TARGET.value_counts()"
   ]
  },
  {
   "cell_type": "code",
   "execution_count": 16,
   "id": "20caa5e3-1283-45e7-8c79-1240b54c852b",
   "metadata": {},
   "outputs": [
    {
     "data": {
      "text/plain": [
       "0    0.91927\n",
       "1    0.08073\n",
       "Name: TARGET, dtype: float64"
      ]
     },
     "execution_count": 16,
     "metadata": {},
     "output_type": "execute_result"
    }
   ],
   "source": [
    "df_final.TARGET.value_counts()/df.shape[0]"
   ]
  },
  {
   "cell_type": "code",
   "execution_count": 17,
   "id": "b6d26c61-495f-46b9-84eb-5afc03dfb874",
   "metadata": {},
   "outputs": [],
   "source": [
    "target = df_final.TARGET\n",
    "inputs = df_final.drop(columns=['TARGET','SK_ID_CURR'])\n",
    "inputs_with_ids = df_final.drop(columns=['TARGET'])"
   ]
  },
  {
   "cell_type": "code",
   "execution_count": 18,
   "id": "0132f080-6cd4-40fb-9941-cb10685efb69",
   "metadata": {},
   "outputs": [],
   "source": [
    "from sklearn.model_selection import train_test_split\n",
    "\n",
    "# Split the data into train and test sets\n",
    "X_train, X_test, y_train, y_test = train_test_split(inputs, target, test_size=0.3, random_state=1)"
   ]
  },
  {
   "cell_type": "code",
   "execution_count": 19,
   "id": "db913e69-e606-4ca0-a6a4-e8eb904efa98",
   "metadata": {},
   "outputs": [
    {
     "data": {
      "text/plain": [
       "((215254, 339), (92253, 339))"
      ]
     },
     "execution_count": 19,
     "metadata": {},
     "output_type": "execute_result"
    }
   ],
   "source": [
    "X_train.shape, X_test.shape"
   ]
  },
  {
   "cell_type": "code",
   "execution_count": 20,
   "id": "2675d55b-cbc6-40e2-8162-b1fdc416faa9",
   "metadata": {
    "tags": []
   },
   "outputs": [],
   "source": [
    "index_test = X_test.index.tolist()\n",
    "X_test_with_id = inputs_with_ids.loc[index_test]"
   ]
  },
  {
   "cell_type": "code",
   "execution_count": 21,
   "id": "11b05533-fafe-4b53-81e3-a61d1bffd7bc",
   "metadata": {},
   "outputs": [],
   "source": [
    "X_test_with_id.to_csv('CustomerDataToBePredicted.csv',index=False)"
   ]
  },
  {
   "cell_type": "markdown",
   "id": "66e7d4ba-95dd-4089-8a05-db75d3592f1b",
   "metadata": {},
   "source": [
    "# Preprocessing"
   ]
  },
  {
   "cell_type": "code",
   "execution_count": 22,
   "id": "3036cfea-40b3-4b2a-831a-cb952e8509e5",
   "metadata": {},
   "outputs": [],
   "source": [
    "columns_int = list(X_train.select_dtypes(include=['uint8', 'int64']).columns)\n",
    "columns_float = list(X_train.select_dtypes(include=['float64']).columns)"
   ]
  },
  {
   "cell_type": "code",
   "execution_count": 23,
   "id": "5706daf1-f46f-437c-be9a-a2d33145012c",
   "metadata": {},
   "outputs": [],
   "source": [
    "X_train_preprocess = X_train.copy()\n",
    "X_test_preprocess = X_test.copy()"
   ]
  },
  {
   "cell_type": "code",
   "execution_count": 24,
   "id": "d68c93a9-499d-4750-999e-6bc12eecdb37",
   "metadata": {
    "tags": []
   },
   "outputs": [],
   "source": [
    "from sklearn.impute import SimpleImputer\n",
    "\n",
    "imp_most_frequent = SimpleImputer(strategy=\"most_frequent\")\n",
    "imp_mean = SimpleImputer(strategy=\"mean\")\n",
    "imp_most_frequent.fit(X_train_preprocess[columns_int])\n",
    "imp_mean.fit(X_train_preprocess[columns_float])\n",
    "\n",
    "X_train_preprocess[columns_int] = imp_most_frequent.transform(X_train_preprocess[columns_int])\n",
    "X_train_preprocess[columns_float] = imp_mean.transform(X_train_preprocess[columns_float])\n",
    "X_test_preprocess[columns_int] = imp_most_frequent.transform(X_test_preprocess[columns_int])\n",
    "X_test_preprocess[columns_float] = imp_mean.transform(X_test_preprocess[columns_float])"
   ]
  },
  {
   "cell_type": "code",
   "execution_count": 25,
   "id": "eb652da7-9681-498b-a503-c1ec5c3101d8",
   "metadata": {},
   "outputs": [],
   "source": [
    "from sklearn.preprocessing import RobustScaler\n",
    "\n",
    "rs_scaler = RobustScaler()\n",
    "rs_scaler.fit(X_train_preprocess[columns_float])\n",
    "\n",
    "X_train_preprocess[columns_float] = rs_scaler.transform(X_train_preprocess[columns_float])\n",
    "X_test_preprocess[columns_float] = rs_scaler.transform(X_test_preprocess[columns_float])"
   ]
  },
  {
   "cell_type": "code",
   "execution_count": 26,
   "id": "8a110705-d7f2-4e5f-860f-f4b6d7879718",
   "metadata": {},
   "outputs": [
    {
     "data": {
      "text/plain": [
       "((215254, 339), (92253, 339))"
      ]
     },
     "execution_count": 26,
     "metadata": {},
     "output_type": "execute_result"
    }
   ],
   "source": [
    "X_train_preprocess.shape, X_test_preprocess.shape"
   ]
  },
  {
   "cell_type": "markdown",
   "id": "0cc80241-1d7c-4a2f-b7de-56577df970da",
   "metadata": {},
   "source": [
    "## Pipeline preprocessing"
   ]
  },
  {
   "cell_type": "code",
   "execution_count": 12,
   "id": "fa3d28af-0a5f-4ce2-9fc3-2748768b5cd2",
   "metadata": {},
   "outputs": [],
   "source": [
    "from sklearn.pipeline import Pipeline\n",
    "from sklearn.compose import ColumnTransformer\n",
    "\n",
    "# Pipeline data transformation (Imputation / Scaling):\n",
    "def Preprocessing (numeric,categoric):\n",
    "    numeric_trans = [('imputer',SimpleImputer(strategy= 'mean')),('scaler', RobustScaler())]\n",
    "    numeric_pipeline = Pipeline(numeric_trans)\n",
    "    categoric_trans = [('imputer',SimpleImputer(strategy=\"most_frequent\"))]\n",
    "    categoric_pipeline = Pipeline(categoric_trans)\n",
    "    all_trans = [(\"numeric\",numeric_pipeline,numeric),(\"categorical\",categoric_pipeline,categoric)]\n",
    "    preprocessor = ColumnTransformer(all_trans, remainder='passthrough')\n",
    "    return preprocessor"
   ]
  },
  {
   "cell_type": "code",
   "execution_count": 28,
   "id": "82de0041-24a9-44c5-b9e4-422b843c45c5",
   "metadata": {},
   "outputs": [],
   "source": [
    "# Data Transformed\n",
    "preprocessor_fitted = Preprocessing(columns_float,columns_int).fit(X_train)"
   ]
  },
  {
   "cell_type": "code",
   "execution_count": 29,
   "id": "961cb0fd-4b1f-41a5-8399-d6757e9c4d9b",
   "metadata": {},
   "outputs": [],
   "source": [
    "X_train_preprocess = preprocessor_fitted.transform(X_train)\n",
    "X_test_preprocess = preprocessor_fitted.transform(X_test)"
   ]
  },
  {
   "cell_type": "code",
   "execution_count": 30,
   "id": "f8615a64-bc99-4aa4-89c5-c9e6c3c44cad",
   "metadata": {},
   "outputs": [
    {
     "data": {
      "text/plain": [
       "((215254, 339), (92253, 339))"
      ]
     },
     "execution_count": 30,
     "metadata": {},
     "output_type": "execute_result"
    }
   ],
   "source": [
    "X_train_preprocess.shape, X_test_preprocess.shape"
   ]
  },
  {
   "cell_type": "markdown",
   "id": "b492ed05-4067-4c94-989e-19a10e68f5da",
   "metadata": {},
   "source": [
    "# Resampling\n",
    "\n",
    "Links: https://towardsdatascience.com/imbalanced-classification-in-python-smote-tomek-links-method-6e48dfe69bbc\n",
    "\n",
    "#### from imblearn.under_sampling import RandomUnderSampler\n",
    "- Le sous-échantillonnage aléatoire (random undersampling) des observations majoritaires: on retire aléatoirement des observations majoritaires\n",
    "\n",
    "#### from imblearn.under_sampling import TomekLinks\n",
    "- Le sous-échantillonnage synthétique (TomekLinks) des observations majoritaires: on retire des observations majoritaires, ressemblantes à des minoritaires (des majoritaires ambigues)\n",
    "\n",
    "#### from imblearn.over_sampling import RandomOverSampler\n",
    "- Le sur-échantillonnage aléatoire (random oversampling) des observations minoritaires : on tire au hasard des individus minoritaires (on les dupplique) que l’on rajoute aux données.\n",
    "\n",
    "#### from imblearn.over_sampling import SMOTE\n",
    "- Le sur-échantillonnage synthétique (SMOTE pour Synthetic Minority Oversampling Technique) produit des observations minoritaires ressemblantes mais distinctes de celles déjà existantes."
   ]
  },
  {
   "cell_type": "markdown",
   "id": "bfe428b5-f2bc-41c5-9eca-0834855dd141",
   "metadata": {},
   "source": [
    "- Nous allons combiner SMOTE avec RandomUnderSampler pour augmenter l'efficacité de la gestion de la classe déséquilibrée.\n",
    "J'utilise pas Tomek car cela prend beaucoup trop de temps par rapport à la valeur ajoutée.\n",
    "\n",
    "Doc: https://imbalanced-learn.org/dev/references/generated/imblearn.combine.SMOTETomek.html"
   ]
  },
  {
   "cell_type": "code",
   "execution_count": 31,
   "id": "93d03ef7-cfdb-431e-bea9-b3aa3d582883",
   "metadata": {},
   "outputs": [],
   "source": [
    "from imblearn.over_sampling import SMOTE\n",
    "from imblearn.under_sampling import RandomUnderSampler\n",
    "#from imblearn.under_sampling import TomekLinks\n",
    "#from imblearn.combine import SMOTETomek"
   ]
  },
  {
   "cell_type": "code",
   "execution_count": 32,
   "id": "f0d84ae1-9a96-458c-becc-914f5dc809a4",
   "metadata": {},
   "outputs": [],
   "source": [
    "## Over-sampling\n",
    "smote = SMOTE(sampling_strategy=0.4)\n",
    "\n",
    "## Under-sampling \n",
    "#tomek = TomekLinks(sampling_strategy='majority')\n",
    "rus = RandomUnderSampler(sampling_strategy=0.6)\n",
    "\n",
    "## Over-sampling then under-sampling\n",
    "#smtomek = SMOTETomek(sampling_strategy=0.2, tomek=TomekLinks(sampling_strategy=0.4))"
   ]
  },
  {
   "cell_type": "code",
   "execution_count": 33,
   "id": "bb530899-d130-4a1b-b46d-796c2704ef0f",
   "metadata": {},
   "outputs": [
    {
     "data": {
      "text/plain": [
       "0    197857\n",
       "1     17397\n",
       "Name: TARGET, dtype: int64"
      ]
     },
     "execution_count": 33,
     "metadata": {},
     "output_type": "execute_result"
    }
   ],
   "source": [
    "y_train.value_counts()"
   ]
  },
  {
   "cell_type": "code",
   "execution_count": 34,
   "id": "6d98d897-d5b6-47fb-ad07-78e7ae81f578",
   "metadata": {
    "tags": []
   },
   "outputs": [
    {
     "name": "stdout",
     "output_type": "stream",
     "text": [
      "CPU times: user 15.9 s, sys: 13.4 s, total: 29.3 s\n",
      "Wall time: 9.83 s\n"
     ]
    }
   ],
   "source": [
    "%%time\n",
    "X_train_smote, y_train_smote = smote.fit_resample(X_train_preprocess, y_train)"
   ]
  },
  {
   "cell_type": "code",
   "execution_count": 35,
   "id": "2c820183-b0c7-4131-a9ba-7c425eabfc12",
   "metadata": {
    "tags": []
   },
   "outputs": [
    {
     "data": {
      "text/plain": [
       "0    197857\n",
       "1     79142\n",
       "Name: TARGET, dtype: int64"
      ]
     },
     "execution_count": 35,
     "metadata": {},
     "output_type": "execute_result"
    }
   ],
   "source": [
    "y_train_smote.value_counts()"
   ]
  },
  {
   "cell_type": "code",
   "execution_count": 36,
   "id": "d17849af-3305-42c6-92de-3fdf6bf22784",
   "metadata": {},
   "outputs": [
    {
     "data": {
      "text/plain": [
       "0    0.714288\n",
       "1    0.285712\n",
       "Name: TARGET, dtype: float64"
      ]
     },
     "execution_count": 36,
     "metadata": {},
     "output_type": "execute_result"
    }
   ],
   "source": [
    "y_train_smote.value_counts()/y_train_smote.shape"
   ]
  },
  {
   "cell_type": "code",
   "execution_count": 37,
   "id": "3c3451e4-0375-4387-8e05-d92921ab35bd",
   "metadata": {
    "tags": []
   },
   "outputs": [
    {
     "name": "stdout",
     "output_type": "stream",
     "text": [
      "CPU times: user 160 ms, sys: 428 ms, total: 588 ms\n",
      "Wall time: 594 ms\n"
     ]
    }
   ],
   "source": [
    "%%time\n",
    "X_train_rebalanced, y_train_rebalanced = rus.fit_resample(X_train_smote, y_train_smote)"
   ]
  },
  {
   "cell_type": "code",
   "execution_count": 38,
   "id": "d38ae96b-708e-4f30-84ff-75735e2f7d0d",
   "metadata": {},
   "outputs": [
    {
     "data": {
      "text/plain": [
       "0    131903\n",
       "1     79142\n",
       "Name: TARGET, dtype: int64"
      ]
     },
     "execution_count": 38,
     "metadata": {},
     "output_type": "execute_result"
    }
   ],
   "source": [
    "y_train_rebalanced.value_counts()"
   ]
  },
  {
   "cell_type": "code",
   "execution_count": 39,
   "id": "0fd38eaf-555d-4736-a1a9-dff8cc22a648",
   "metadata": {},
   "outputs": [
    {
     "data": {
      "text/plain": [
       "0    0.624999\n",
       "1    0.375001\n",
       "Name: TARGET, dtype: float64"
      ]
     },
     "execution_count": 39,
     "metadata": {},
     "output_type": "execute_result"
    }
   ],
   "source": [
    "y_train_rebalanced.value_counts()/y_train_rebalanced.shape"
   ]
  },
  {
   "cell_type": "markdown",
   "id": "7886c1ac-7c94-4b26-b84a-6d8cff3ed4ac",
   "metadata": {},
   "source": [
    "# Modelling and optimization\n",
    "\n",
    "- Score auc \n",
    "- Métrique métier (f beta score)"
   ]
  },
  {
   "cell_type": "code",
   "execution_count": 40,
   "id": "caf68ebe-97f2-4be3-a517-dba3e267505f",
   "metadata": {},
   "outputs": [],
   "source": [
    "## Modelisation\n",
    "from sklearn.model_selection import GridSearchCV\n",
    "from sklearn.ensemble import RandomForestClassifier\n",
    "import lightgbm as lgb\n",
    "\n",
    "## scoring the grid search on the train\n",
    "# roc_auc par défault\n",
    "from sklearn.metrics import  make_scorer\n",
    "from sklearn.metrics import fbeta_score\n",
    "\n",
    "# Scoring the test (y_true, y_pred and y proba for roc_auc_score)\n",
    "from sklearn.metrics import accuracy_score\n",
    "from sklearn.metrics import roc_auc_score\n",
    "from sklearn.metrics import precision_score\n",
    "from sklearn.metrics import recall_score\n",
    "from sklearn.metrics import f1_score\n",
    "from sklearn.metrics import roc_auc_score\n",
    "#from sklearn.metrics import fbeta_score"
   ]
  },
  {
   "cell_type": "markdown",
   "id": "f625f0b2-d0a9-446c-a0cf-8373f944ab1c",
   "metadata": {},
   "source": [
    "## Baseline model"
   ]
  },
  {
   "cell_type": "code",
   "execution_count": 41,
   "id": "898df72d-9f1f-4720-aad3-37d9d01b5a77",
   "metadata": {},
   "outputs": [
    {
     "data": {
      "text/plain": [
       "0    84825\n",
       "1     7428\n",
       "Name: TARGET, dtype: int64"
      ]
     },
     "execution_count": 41,
     "metadata": {},
     "output_type": "execute_result"
    }
   ],
   "source": [
    "y_test.value_counts()"
   ]
  },
  {
   "cell_type": "code",
   "execution_count": 42,
   "id": "f98c7648-1d55-40be-b26d-3e3887d4b216",
   "metadata": {},
   "outputs": [
    {
     "data": {
      "text/plain": [
       "0    131903\n",
       "1     79142\n",
       "Name: TARGET, dtype: int64"
      ]
     },
     "execution_count": 42,
     "metadata": {},
     "output_type": "execute_result"
    }
   ],
   "source": [
    "y_train_rebalanced.value_counts()"
   ]
  },
  {
   "cell_type": "code",
   "execution_count": 44,
   "id": "cd2f1b83-2846-4fda-b1a4-16eea06eef52",
   "metadata": {},
   "outputs": [
    {
     "name": "stdout",
     "output_type": "stream",
     "text": [
      "Score : 0.5004498498693809\n"
     ]
    }
   ],
   "source": [
    "from sklearn.linear_model import LogisticRegression\n",
    "from sklearn.dummy import DummyClassifier\n",
    "\n",
    "# Baseline model\n",
    "baseline_model = DummyClassifier(strategy=\"uniform\")\n",
    "baseline_model.fit(X_train_rebalanced, y_train_rebalanced)\n",
    "print(f\"Score : {baseline_model.score(X_test, y_test)}\")"
   ]
  },
  {
   "cell_type": "markdown",
   "id": "063a0ae0-36b1-472d-8fda-81103a5c6318",
   "metadata": {},
   "source": [
    "## Random Forest Classifier"
   ]
  },
  {
   "cell_type": "code",
   "execution_count": 45,
   "id": "65484ff7-c900-4b54-a06e-72af293fbcd7",
   "metadata": {},
   "outputs": [],
   "source": [
    "def optim_model(model, param_grid, scoring, X, y):\n",
    "    grid_search = GridSearchCV(estimator=model, param_grid=param_grid, scoring=scoring, cv=5)\n",
    "    grid_search.fit(X, y)\n",
    "    return grid_search.best_score_, grid_search.best_params_, grid_search.best_estimator_"
   ]
  },
  {
   "cell_type": "code",
   "execution_count": 46,
   "id": "7d9670df-58b2-40bd-b4de-bfcf81f17748",
   "metadata": {},
   "outputs": [],
   "source": [
    "# Scoring\n",
    "scorers = {'roc_auc': 'roc_auc', 'fbeta_score': make_scorer(fbeta_score, beta=2)}"
   ]
  },
  {
   "cell_type": "code",
   "execution_count": 47,
   "id": "1f127eed-4d8c-463d-8acf-7d34fc0014a8",
   "metadata": {
    "tags": []
   },
   "outputs": [],
   "source": [
    "# Model\n",
    "rfc_model = RandomForestClassifier(random_state=0)\n",
    "\n",
    "# Hyperparameters Grid\n",
    "n_estimators = [100, 130, 160]\n",
    "criterions = ['gini', 'entropy']\n",
    "max_depth = range(2,5)\n",
    "rfc_parameters = {'n_estimators':n_estimators, 'criterion': criterions, 'max_depth':max_depth}"
   ]
  },
  {
   "cell_type": "code",
   "execution_count": 48,
   "id": "8f162805-d06b-4020-be55-85408ebd4340",
   "metadata": {
    "tags": []
   },
   "outputs": [],
   "source": [
    "## Optimisation sur le score auc\n",
    "# rf_score_auc, rf_param_auc, rf_estimator_auc = optim_model(model=rfc_model, param_grid=rfc_parameters, scoring=scorers['roc_auc'],\n",
    "#                                                            X=X_train_smtomek, y=y_train_smtomek)"
   ]
  },
  {
   "cell_type": "markdown",
   "id": "7820a51d-7142-4c91-9e9a-19be2fdf0edc",
   "metadata": {},
   "source": [
    "- CPU times: user 2h 6min 55s, sys: 1min 58s, total: 2h 8min 53s\n",
    "- Wall time: 2h 8min 55s\n",
    "    \n",
    "- Score auc: 0.9349012560822322\n",
    "- Paramètres: 'criterion': 'entropy', 'max_depth': 4, 'n_estimators': 130\n",
    "- Estimateur optimale au niveau du score auc: RandomForestClassifier(criterion='entropy', max_depth=4, n_estimators=130, random_state=0))"
   ]
  },
  {
   "cell_type": "code",
   "execution_count": 49,
   "id": "aec87b56-95a9-4967-ace4-60b75e8d472f",
   "metadata": {
    "tags": []
   },
   "outputs": [],
   "source": [
    "## Score f beta\n",
    "#rf_score_beta, rf_param_beta, rf_estimator_beta = optim_model(model=rfc_model, param_grid=rfc_parameters, scoring=scorers['fbeta_score'],\n",
    "#                                                  X=X_train_smtomek, y=y_train_smtomek)"
   ]
  },
  {
   "cell_type": "markdown",
   "id": "bff25899-0046-4faf-b84f-e8802ca95e4a",
   "metadata": {},
   "source": [
    "- CPU times: user 2h 7min 53s, sys: 1min 56s, total: 2h 9min 49s\n",
    "- Wall time: 2h 9min 51s\n",
    "    \n",
    "- Score f beta: 0.8575190702089286\n",
    "- Paramètres: 'criterion': 'entropy', 'max_depth': 4, 'n_estimators': 100\n",
    "- Estimateur optimale au niveau du score f beta: RandomForestClassifier(criterion='entropy', max_depth=4, random_state=0))"
   ]
  },
  {
   "cell_type": "markdown",
   "id": "c2463507-2d6d-41fd-a34f-ca195ed163c1",
   "metadata": {},
   "source": [
    "## Light Gbm"
   ]
  },
  {
   "cell_type": "code",
   "execution_count": 50,
   "id": "eac5e738-528c-4b7e-86d3-aebaf24d3b15",
   "metadata": {},
   "outputs": [],
   "source": [
    "lgbm_model = lgb.LGBMClassifier(random_state=1)\n",
    "\n",
    "lgbm_parameters = {'num_leaves':[20, 25, 30], 'max_depth': range(2,5), 'learning_rate': [0.1, 0.3, 0.5], 'n_estimators': [100, 500, 1000]}"
   ]
  },
  {
   "cell_type": "code",
   "execution_count": 52,
   "id": "bfb4b872-a96c-4729-800a-692667a81251",
   "metadata": {},
   "outputs": [],
   "source": [
    "import re\n",
    "\n",
    "#X_train_rebalanced = X_train_rebalanced.rename(columns = lambda x:re.sub('[^A-Za-z0-9_]+', '', x))"
   ]
  },
  {
   "cell_type": "code",
   "execution_count": 53,
   "id": "9a441f5d-cd69-4e72-ad02-9d52ee4415ae",
   "metadata": {
    "tags": []
   },
   "outputs": [],
   "source": [
    "## Score auc\n",
    "# lgbm_score_auc, lgbm_param_auc, lgbm_estimator_auc = optim_model(model=lgbm_model, param_grid=lgbm_parameters, scoring=scorers['roc_auc'],\n",
    "#                                                                 X=X_train_rebalanced, y=y_train_rebalanced)"
   ]
  },
  {
   "cell_type": "markdown",
   "id": "86e015ed-f2b6-46a8-b996-d881775372df",
   "metadata": {},
   "source": [
    "- CPU times: user 1d 11h 54min 24s, sys: 8min 47s, total: 1d 12h 3min 11s\n",
    "- Wall time: 5h 9min 47s\n",
    "\n",
    "- Score auc: 0.9675222944825889\n",
    "- Paramètres: 'learning_rate': 0.1, 'max_depth': 4, 'n_estimators': 100, 'num_leaves': 20\n",
    "- Estimateur optimale au niveau du score auc: LGBMClassifier(max_depth=4, num_leaves=20, random_state=1)"
   ]
  },
  {
   "cell_type": "code",
   "execution_count": 54,
   "id": "9370ea0a-948d-4801-8032-e9aca21de4eb",
   "metadata": {
    "tags": []
   },
   "outputs": [],
   "source": [
    "## Score f beta\n",
    "# lgbm_score_beta, lgbm_param_beta, lgbm_estimator_beta = optim_model(model=lgbm_model, param_grid=lgbm_parameters, scoring=scorers['fbeta_score'], \n",
    "#                                                                    X=X_train_rebalanced, y=y_train_rebalanced)"
   ]
  },
  {
   "cell_type": "markdown",
   "id": "6642aa98-76cf-44f9-92cc-9c3455300b1c",
   "metadata": {},
   "source": [
    "- CPU times: user 1d 12h 47min 9s, sys: 8min 31s, total: 1d 12h 55min 41s\n",
    "- Wall time: 5h 16min 28s\n",
    "\n",
    "- Score f beta: 0.9599934906823723,\n",
    "- Paramètres: 'learning_rate': 0.5, 'max_depth': 3, 'n_estimators': 1000, 'num_leaves': 30\n",
    "- Estimateur optimale au niveau du score f beta: LGBMClassifier(max_depth=4, num_leaves=20, random_state=1)"
   ]
  },
  {
   "cell_type": "markdown",
   "id": "6d804488-448d-4d13-8c78-c47f55ba576f",
   "metadata": {},
   "source": [
    "## Comparaison des modèles et performance"
   ]
  },
  {
   "cell_type": "markdown",
   "id": "1f7bedf3-6d6c-428f-96f9-ff6f13900bd3",
   "metadata": {},
   "source": [
    "- La mesure du score AUC de chaque split de la cross validation du fichier train permet de vérifier la stabilité de ce score et donc la généralisation du modèle\n",
    "- Afficher en parallèle l’AUC du fichier test en tant que contrôle de cohérence, afin de mettre en évidence un éventuel problème de stratification dans le train_test_split ou bien une éventuelle dérive de type data leakage au niveau du fichier train “cross-validé” (par exemple Smote sur l’ensemble du fichier train avant cross validation)"
   ]
  },
  {
   "cell_type": "code",
   "execution_count": 55,
   "id": "799b9543-543a-4eb4-b559-bddf59928c30",
   "metadata": {},
   "outputs": [
    {
     "data": {
      "text/plain": [
       "(0.5439635696487868, 6.186526412599873)"
      ]
     },
     "execution_count": 55,
     "metadata": {},
     "output_type": "execute_result"
    }
   ],
   "source": [
    "n_classes = 2\n",
    "n_samples = y_train.shape[0]\n",
    "n_samples0 = y_train.value_counts().loc[0]\n",
    "n_samples1 = y_train.value_counts().loc[1]\n",
    "w0 = n_samples / (n_classes * n_samples0)\n",
    "w1 = n_samples / (n_classes * n_samples1)\n",
    "w0, w1"
   ]
  },
  {
   "cell_type": "code",
   "execution_count": 56,
   "id": "6aea6853-bc88-41d3-9d8b-f90a4b1031a1",
   "metadata": {},
   "outputs": [
    {
     "data": {
      "text/plain": [
       "11.373052825199746"
      ]
     },
     "execution_count": 56,
     "metadata": {},
     "output_type": "execute_result"
    }
   ],
   "source": [
    "ratio_01 = n_samples0 / n_samples1\n",
    "ratio_01"
   ]
  },
  {
   "cell_type": "code",
   "execution_count": 57,
   "id": "31cb8ef5-b782-4a19-b274-fd4e21b09fa0",
   "metadata": {},
   "outputs": [],
   "source": [
    "lgbm_best_model = lgb.LGBMClassifier(learning_rate=0.5, max_depth=3, n_estimators=1000,\n",
    "                                     num_leaves=30, random_state=2, scale_pos_weight=12)"
   ]
  },
  {
   "cell_type": "markdown",
   "id": "bd4578b0-9116-49e7-956f-05d3b6df50fd",
   "metadata": {},
   "source": [
    "- Cross validation pour vérifier la stabilité"
   ]
  },
  {
   "cell_type": "code",
   "execution_count": 58,
   "id": "488717d7-e74b-47e4-b178-ad2c62b9f4e7",
   "metadata": {},
   "outputs": [],
   "source": [
    "from sklearn.model_selection import cross_val_score\n",
    "\n",
    "def eval_model(model, X, y, scoring):\n",
    "    score = cross_val_score(model, X, y, scoring=scoring,cv=5)\n",
    "    return score"
   ]
  },
  {
   "cell_type": "code",
   "execution_count": 59,
   "id": "c242d759-19f4-4cbe-a587-391bff1e373a",
   "metadata": {},
   "outputs": [],
   "source": [
    "scoring_metrics = ['roc_auc', make_scorer(fbeta_score, beta=2)]"
   ]
  },
  {
   "cell_type": "code",
   "execution_count": 60,
   "id": "9a57c8ec-025f-4766-816e-7a3c89c2c98e",
   "metadata": {},
   "outputs": [
    {
     "name": "stdout",
     "output_type": "stream",
     "text": [
      "CPU times: user 28min 56s, sys: 2.27 s, total: 28min 58s\n",
      "Wall time: 4min 4s\n"
     ]
    }
   ],
   "source": [
    "%%time\n",
    "score_roc_auc = eval_model(lgbm_best_model, X_train_rebalanced, y_train_rebalanced, scoring_metrics[0])"
   ]
  },
  {
   "cell_type": "code",
   "execution_count": 61,
   "id": "9933ca21-c8ee-4643-8dbc-b85a4a6f9ef3",
   "metadata": {},
   "outputs": [
    {
     "data": {
      "text/plain": [
       "array([0.66542871, 0.97361872, 0.99995112, 0.99993141, 0.99974142])"
      ]
     },
     "execution_count": 61,
     "metadata": {},
     "output_type": "execute_result"
    }
   ],
   "source": [
    "score_roc_auc"
   ]
  },
  {
   "cell_type": "code",
   "execution_count": 62,
   "id": "00a2e1c4-5976-4fa5-8bb2-443eda7fb417",
   "metadata": {},
   "outputs": [
    {
     "name": "stdout",
     "output_type": "stream",
     "text": [
      "CPU times: user 29min, sys: 2.43 s, total: 29min 2s\n",
      "Wall time: 4min 4s\n"
     ]
    }
   ],
   "source": [
    "%%time\n",
    "score_fbeta = eval_model(lgbm_best_model, X_train_rebalanced, y_train_rebalanced, scoring_metrics[1])"
   ]
  },
  {
   "cell_type": "code",
   "execution_count": 63,
   "id": "eeb347ab-d3e3-4f45-a86e-6c6b0320c541",
   "metadata": {},
   "outputs": [
    {
     "data": {
      "text/plain": [
       "array([0.03373724, 0.88462207, 0.90371352, 0.90301786, 0.90227107])"
      ]
     },
     "execution_count": 63,
     "metadata": {},
     "output_type": "execute_result"
    }
   ],
   "source": [
    "score_fbeta"
   ]
  },
  {
   "cell_type": "markdown",
   "id": "953801d3-401f-46c7-9980-888803eb4680",
   "metadata": {},
   "source": [
    "- Scores du fichier test pour contrôler la cohérence"
   ]
  },
  {
   "cell_type": "code",
   "execution_count": 64,
   "id": "01ed07c1-8a57-4283-97bf-9801a2daadcb",
   "metadata": {},
   "outputs": [
    {
     "name": "stdout",
     "output_type": "stream",
     "text": [
      "CPU times: user 5min 59s, sys: 313 ms, total: 6min\n",
      "Wall time: 49.5 s\n"
     ]
    },
    {
     "data": {
      "text/plain": [
       "LGBMClassifier(learning_rate=0.5, max_depth=3, n_estimators=1000, num_leaves=30,\n",
       "               random_state=2, scale_pos_weight=12)"
      ]
     },
     "execution_count": 64,
     "metadata": {},
     "output_type": "execute_result"
    }
   ],
   "source": [
    "%%time\n",
    "lgbm_best_model.fit(X_train_rebalanced, y_train_rebalanced)"
   ]
  },
  {
   "cell_type": "code",
   "execution_count": 65,
   "id": "f594ac0e-3ba6-4f74-a8da-92204d2e231f",
   "metadata": {
    "tags": []
   },
   "outputs": [],
   "source": [
    "def prediction(model, X, y):\n",
    "    y_pred = model.predict(X)\n",
    "    y_prob = model.predict_proba(X)\n",
    "    print('Test accuracy score:', model.score(X, y))\n",
    "    ras = roc_auc_score(y, y_prob[:,1])\n",
    "    print('Test roc auc score:', ras)\n",
    "    ps = precision_score(y, y_pred)\n",
    "    print('Test precision score:', ps)\n",
    "    rs = recall_score(y, y_pred)\n",
    "    print('Test recall score:', rs)\n",
    "    f1s = f1_score(y, y_pred)\n",
    "    print('Test f1 score:', f1s)\n",
    "    f2s = fbeta_score(y, y_pred, beta=2)\n",
    "    print('Test f2 score:', f2s)\n",
    "    #auc_score = roc_auc_score(y, y_prob[:,1])\n",
    "    #print('Test auc score :', auc_score)\n",
    "    return y_pred,y_prob"
   ]
  },
  {
   "cell_type": "code",
   "execution_count": 82,
   "id": "e41053b4-d14e-48d2-9538-e1fa6b5287ce",
   "metadata": {},
   "outputs": [
    {
     "name": "stdout",
     "output_type": "stream",
     "text": [
      "Test accuracy score: 0.7113047814163225\n",
      "Test roc auc score: 0.7399228304464782\n",
      "Test precision score: 0.1656394721264668\n",
      "Test recall score: 0.6404146472805601\n",
      "Test f1 score: 0.2632030320635184\n",
      "Test f2 score: 0.40706132018962543\n"
     ]
    }
   ],
   "source": [
    "y_pred_lgbm, y_proba_lgbm = prediction(lgbm_best_model, X_test_preprocess, y_test)"
   ]
  },
  {
   "cell_type": "markdown",
   "id": "5b742f1a-2ba2-4265-8800-55ae8b766e71",
   "metadata": {},
   "source": [
    "## Save preprocessor and model"
   ]
  },
  {
   "cell_type": "code",
   "execution_count": 67,
   "id": "b0e83d7f-1823-412b-aed5-66c86eaea101",
   "metadata": {},
   "outputs": [],
   "source": [
    "import pickle\n",
    "\n",
    "filename = 'preprocessor.pkl'\n",
    "pickle.dump(preprocessor_fitted, open(filename, 'wb'))\n",
    "\n",
    "filename = 'lgbm_model.pkl'\n",
    "pickle.dump(lgbm_best_model, open(filename, 'wb'))"
   ]
  }
 ],
 "metadata": {
  "kernelspec": {
   "display_name": "Python 3",
   "language": "python",
   "name": "python3"
  },
  "language_info": {
   "codemirror_mode": {
    "name": "ipython",
    "version": 3
   },
   "file_extension": ".py",
   "mimetype": "text/x-python",
   "name": "python",
   "nbconvert_exporter": "python",
   "pygments_lexer": "ipython3",
   "version": "3.8.7"
  }
 },
 "nbformat": 4,
 "nbformat_minor": 5
}
